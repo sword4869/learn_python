{
 "cells": [
  {
   "attachments": {},
   "cell_type": "markdown",
   "metadata": {},
   "source": [
    "# os库\n",
    "- 库：`import os`\n",
    "\n",
    "- 使用命令：`os.system('')`，\n",
    "  \n",
    "  注意，执行结果不是返回字符串，而是直接输出到shell中。\n",
    "\n",
    "- 缺点： \n",
    "\n",
    "  在linux下，没问题。\n",
    "  在windows下，每次使用一下`os.system('')`命令，就会弹出一个cmd窗口，然后执行完毕后关闭。如果多次使用的话，就很烦。"
   ]
  },
  {
   "cell_type": "code",
   "execution_count": 13,
   "metadata": {},
   "outputs": [
    {
     "name": "stdout",
     "output_type": "stream",
     "text": [
      "readme.md\n",
      "sh.ipynb\n",
      "sh.py\n"
     ]
    },
    {
     "data": {
      "text/plain": [
       "0"
      ]
     },
     "execution_count": 13,
     "metadata": {},
     "output_type": "execute_result"
    }
   ],
   "source": [
    "import os\n",
    "os.system('ls')"
   ]
  },
  {
   "attachments": {},
   "cell_type": "markdown",
   "metadata": {},
   "source": [
    "# subprocess库\n",
    "- 库：`import subprocess`\n",
    "\n",
    "- 特点：\n",
    "  在windows下， 解决`os`库的问题，cmd窗口静默后台执行，不会弹出来烦你。\n",
    "\n",
    "- `Popen()`就不用学了，基本能干的用`run()`都能。"
   ]
  },
  {
   "cell_type": "code",
   "execution_count": 44,
   "metadata": {},
   "outputs": [
    {
     "name": "stdout",
     "output_type": "stream",
     "text": [
      "readme.md\n",
      "sh.ipynb\n",
      "sh.py\n",
      "tmp_log.log\n"
     ]
    },
    {
     "data": {
      "text/plain": [
       "CompletedProcess(args='ls', returncode=0)"
      ]
     },
     "execution_count": 44,
     "metadata": {},
     "output_type": "execute_result"
    }
   ],
   "source": [
    "import subprocess\n",
    "\n",
    "# 命令执行的结果是直接打在shell中\n",
    "'''\n",
    "`shell=True`表示命令将通过shell执行（默认`shell=False`）.\n",
    "shell=True是关键，不然就报错\n",
    "返回CompletedProcess对象。\n",
    "'''\n",
    "subprocess.run(\"ls\",shell=True)"
   ]
  },
  {
   "cell_type": "code",
   "execution_count": 29,
   "metadata": {},
   "outputs": [
    {
     "name": "stdout",
     "output_type": "stream",
     "text": [
      "ls 0 b'readme.md\\nsh.ipynb\\nsh.py\\n'\n",
      "success:\n"
     ]
    }
   ],
   "source": [
    "import subprocess\n",
    "\n",
    "# 命令执行的结果没有打在shell中，而是以字节的形式返回命令执行的结果\n",
    "'''\n",
    "stdout=subprocess.PIPE， 我们就可以获取命令执行的结果\n",
    "返回进程退出状态码 returncode，0表示success，其他表示失败。\n",
    "'''\n",
    "ret = subprocess.run(\"ls\",shell=True, stdout=subprocess.PIPE)\n",
    "print(ret.args, ret.returncode, ret.stdout)\n",
    "if ret.returncode == 0:\n",
    "    print(\"success:\")\n",
    "else:\n",
    "    print(\"error:\")"
   ]
  },
  {
   "cell_type": "code",
   "execution_count": 46,
   "metadata": {},
   "outputs": [
    {
     "name": "stderr",
     "output_type": "stream",
     "text": [
      "ls: invalid option -- '2'\n",
      "Try 'ls --help' for more information.\n"
     ]
    },
    {
     "ename": "CalledProcessError",
     "evalue": "Command 'ls -2' returned non-zero exit status 2.",
     "output_type": "error",
     "traceback": [
      "\u001b[0;31m---------------------------------------------------------------------------\u001b[0m",
      "\u001b[0;31mCalledProcessError\u001b[0m                        Traceback (most recent call last)",
      "\u001b[1;32m/home/lab/git/learn_python/命令行/sh.ipynb Cell 6\u001b[0m in \u001b[0;36m<cell line: 4>\u001b[0;34m()\u001b[0m\n\u001b[1;32m      <a href='vscode-notebook-cell:/home/lab/git/learn_python/%E5%91%BD%E4%BB%A4%E8%A1%8C/sh.ipynb#X34sZmlsZQ%3D%3D?line=0'>1</a>\u001b[0m \u001b[39mimport\u001b[39;00m \u001b[39msubprocess\u001b[39;00m\n\u001b[1;32m      <a href='vscode-notebook-cell:/home/lab/git/learn_python/%E5%91%BD%E4%BB%A4%E8%A1%8C/sh.ipynb#X34sZmlsZQ%3D%3D?line=2'>3</a>\u001b[0m \u001b[39m# 抛出错误. 默认check=False\u001b[39;00m\n\u001b[0;32m----> <a href='vscode-notebook-cell:/home/lab/git/learn_python/%E5%91%BD%E4%BB%A4%E8%A1%8C/sh.ipynb#X34sZmlsZQ%3D%3D?line=3'>4</a>\u001b[0m subprocess\u001b[39m.\u001b[39;49mrun(\u001b[39m\"\u001b[39;49m\u001b[39mls -2\u001b[39;49m\u001b[39m\"\u001b[39;49m,shell\u001b[39m=\u001b[39;49m\u001b[39mTrue\u001b[39;49;00m, check\u001b[39m=\u001b[39;49m\u001b[39mTrue\u001b[39;49;00m)\n\u001b[1;32m      <a href='vscode-notebook-cell:/home/lab/git/learn_python/%E5%91%BD%E4%BB%A4%E8%A1%8C/sh.ipynb#X34sZmlsZQ%3D%3D?line=4'>5</a>\u001b[0m \u001b[39mprint\u001b[39m(\u001b[39m'\u001b[39m\u001b[39mwrong\u001b[39m\u001b[39m'\u001b[39m)\n",
      "File \u001b[0;32m~/anaconda3/envs/myenv/lib/python3.9/subprocess.py:528\u001b[0m, in \u001b[0;36mrun\u001b[0;34m(input, capture_output, timeout, check, *popenargs, **kwargs)\u001b[0m\n\u001b[1;32m    526\u001b[0m     retcode \u001b[39m=\u001b[39m process\u001b[39m.\u001b[39mpoll()\n\u001b[1;32m    527\u001b[0m     \u001b[39mif\u001b[39;00m check \u001b[39mand\u001b[39;00m retcode:\n\u001b[0;32m--> 528\u001b[0m         \u001b[39mraise\u001b[39;00m CalledProcessError(retcode, process\u001b[39m.\u001b[39margs,\n\u001b[1;32m    529\u001b[0m                                  output\u001b[39m=\u001b[39mstdout, stderr\u001b[39m=\u001b[39mstderr)\n\u001b[1;32m    530\u001b[0m \u001b[39mreturn\u001b[39;00m CompletedProcess(process\u001b[39m.\u001b[39margs, retcode, stdout, stderr)\n",
      "\u001b[0;31mCalledProcessError\u001b[0m: Command 'ls -2' returned non-zero exit status 2."
     ]
    }
   ],
   "source": [
    "import subprocess\n",
    "\n",
    "# 抛出错误. 默认check=False\n",
    "subprocess.run(\"ls -2\",shell=True, check=True)\n",
    "print('wrong')"
   ]
  },
  {
   "attachments": {},
   "cell_type": "markdown",
   "metadata": {},
   "source": [
    "`check_output()`属于老函数，作用:\n",
    "- 不用 `stdout=subprocess.PIPE`，直接返回字节形式的执行结果。\n",
    "- 不像默认的`run(check=False`)碰到错误不停下来，`check_output()`碰到错误会抛出`CalledProcessError`"
   ]
  },
  {
   "cell_type": "code",
   "execution_count": 43,
   "metadata": {},
   "outputs": [
    {
     "name": "stdout",
     "output_type": "stream",
     "text": [
      "b'Python 3.9.13\\n'\n"
     ]
    },
    {
     "name": "stderr",
     "output_type": "stream",
     "text": [
      "ls: invalid option -- '2'\n",
      "Try 'ls --help' for more information.\n"
     ]
    },
    {
     "ename": "CalledProcessError",
     "evalue": "Command 'ls -2' returned non-zero exit status 2.",
     "output_type": "error",
     "traceback": [
      "\u001b[0;31m---------------------------------------------------------------------------\u001b[0m",
      "\u001b[0;31mCalledProcessError\u001b[0m                        Traceback (most recent call last)",
      "\u001b[1;32m/home/lab/git/learn_python/命令行/sh.ipynb Cell 6\u001b[0m in \u001b[0;36m<cell line: 5>\u001b[0;34m()\u001b[0m\n\u001b[1;32m      <a href='vscode-notebook-cell:/home/lab/git/learn_python/%E5%91%BD%E4%BB%A4%E8%A1%8C/sh.ipynb#X13sZmlsZQ%3D%3D?line=2'>3</a>\u001b[0m t \u001b[39m=\u001b[39m subprocess\u001b[39m.\u001b[39mcheck_output(\u001b[39m\"\u001b[39m\u001b[39mpython -V\u001b[39m\u001b[39m\"\u001b[39m,shell\u001b[39m=\u001b[39m\u001b[39mTrue\u001b[39;00m)\n\u001b[1;32m      <a href='vscode-notebook-cell:/home/lab/git/learn_python/%E5%91%BD%E4%BB%A4%E8%A1%8C/sh.ipynb#X13sZmlsZQ%3D%3D?line=3'>4</a>\u001b[0m \u001b[39mprint\u001b[39m(t)\n\u001b[0;32m----> <a href='vscode-notebook-cell:/home/lab/git/learn_python/%E5%91%BD%E4%BB%A4%E8%A1%8C/sh.ipynb#X13sZmlsZQ%3D%3D?line=4'>5</a>\u001b[0m subprocess\u001b[39m.\u001b[39;49mcheck_output(\u001b[39m\"\u001b[39;49m\u001b[39mls -2\u001b[39;49m\u001b[39m\"\u001b[39;49m,shell\u001b[39m=\u001b[39;49m\u001b[39mTrue\u001b[39;49;00m)\n\u001b[1;32m      <a href='vscode-notebook-cell:/home/lab/git/learn_python/%E5%91%BD%E4%BB%A4%E8%A1%8C/sh.ipynb#X13sZmlsZQ%3D%3D?line=5'>6</a>\u001b[0m \u001b[39mprint\u001b[39m(\u001b[39m'\u001b[39m\u001b[39mwrong\u001b[39m\u001b[39m'\u001b[39m)\n",
      "File \u001b[0;32m~/anaconda3/envs/myenv/lib/python3.9/subprocess.py:424\u001b[0m, in \u001b[0;36mcheck_output\u001b[0;34m(timeout, *popenargs, **kwargs)\u001b[0m\n\u001b[1;32m    421\u001b[0m         empty \u001b[39m=\u001b[39m \u001b[39mb\u001b[39m\u001b[39m'\u001b[39m\u001b[39m'\u001b[39m\n\u001b[1;32m    422\u001b[0m     kwargs[\u001b[39m'\u001b[39m\u001b[39minput\u001b[39m\u001b[39m'\u001b[39m] \u001b[39m=\u001b[39m empty\n\u001b[0;32m--> 424\u001b[0m \u001b[39mreturn\u001b[39;00m run(\u001b[39m*\u001b[39;49mpopenargs, stdout\u001b[39m=\u001b[39;49mPIPE, timeout\u001b[39m=\u001b[39;49mtimeout, check\u001b[39m=\u001b[39;49m\u001b[39mTrue\u001b[39;49;00m,\n\u001b[1;32m    425\u001b[0m            \u001b[39m*\u001b[39;49m\u001b[39m*\u001b[39;49mkwargs)\u001b[39m.\u001b[39mstdout\n",
      "File \u001b[0;32m~/anaconda3/envs/myenv/lib/python3.9/subprocess.py:528\u001b[0m, in \u001b[0;36mrun\u001b[0;34m(input, capture_output, timeout, check, *popenargs, **kwargs)\u001b[0m\n\u001b[1;32m    526\u001b[0m     retcode \u001b[39m=\u001b[39m process\u001b[39m.\u001b[39mpoll()\n\u001b[1;32m    527\u001b[0m     \u001b[39mif\u001b[39;00m check \u001b[39mand\u001b[39;00m retcode:\n\u001b[0;32m--> 528\u001b[0m         \u001b[39mraise\u001b[39;00m CalledProcessError(retcode, process\u001b[39m.\u001b[39margs,\n\u001b[1;32m    529\u001b[0m                                  output\u001b[39m=\u001b[39mstdout, stderr\u001b[39m=\u001b[39mstderr)\n\u001b[1;32m    530\u001b[0m \u001b[39mreturn\u001b[39;00m CompletedProcess(process\u001b[39m.\u001b[39margs, retcode, stdout, stderr)\n",
      "\u001b[0;31mCalledProcessError\u001b[0m: Command 'ls -2' returned non-zero exit status 2."
     ]
    }
   ],
   "source": [
    "import subprocess\n",
    "\n",
    "# 直接返回字节形式的执行结果\n",
    "t = subprocess.check_output(\"python -V\",shell=True)\n",
    "print(t)\n",
    "\n",
    "# 碰到错误会抛出`CalledProcessError`\n",
    "subprocess.check_output(\"ls -2\",shell=True)\n",
    "print('wrong')"
   ]
  },
  {
   "attachments": {},
   "cell_type": "markdown",
   "metadata": {},
   "source": [
    "# 将控制台输出写入到文件中"
   ]
  },
  {
   "cell_type": "markdown",
   "metadata": {},
   "source": [
    "第一种"
   ]
  },
  {
   "cell_type": "code",
   "execution_count": null,
   "metadata": {},
   "outputs": [],
   "source": [
    "import subprocess\n",
    "subprocess.run('python tmp_py.py >> tmp_log.log', shell=True)"
   ]
  },
  {
   "cell_type": "markdown",
   "metadata": {},
   "source": [
    "第二种"
   ]
  },
  {
   "cell_type": "code",
   "execution_count": null,
   "metadata": {},
   "outputs": [],
   "source": [
    "import subprocess\n",
    "\n",
    "ret = subprocess.run(\"ls\",shell=True,stdout=subprocess.PIPE)\n",
    "with open('tmp_log.log', 'wb') as f:\n",
    "    f.write(ret.stdout)"
   ]
  }
 ],
 "metadata": {
  "kernelspec": {
   "display_name": "Python 3.9.13 ('myenv')",
   "language": "python",
   "name": "python3"
  },
  "language_info": {
   "codemirror_mode": {
    "name": "ipython",
    "version": 3
   },
   "file_extension": ".py",
   "mimetype": "text/x-python",
   "name": "python",
   "nbconvert_exporter": "python",
   "pygments_lexer": "ipython3",
   "version": "3.9.13"
  },
  "orig_nbformat": 4,
  "vscode": {
   "interpreter": {
    "hash": "70c2c951b79418afa68fe3ba4cfcb65558a15271f3a0c4c0e1072a999987ff99"
   }
  }
 },
 "nbformat": 4,
 "nbformat_minor": 2
}
