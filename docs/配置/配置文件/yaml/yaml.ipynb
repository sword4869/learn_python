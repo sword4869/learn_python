{
 "cells": [
  {
   "cell_type": "code",
   "execution_count": null,
   "metadata": {},
   "outputs": [],
   "source": [
    "!pip install pyyaml"
   ]
  },
  {
   "cell_type": "code",
   "execution_count": 1,
   "metadata": {},
   "outputs": [],
   "source": [
    "import yaml"
   ]
  },
  {
   "cell_type": "markdown",
   "metadata": {},
   "source": [
    "# 原始"
   ]
  },
  {
   "attachments": {},
   "cell_type": "markdown",
   "metadata": {},
   "source": [
    "## 写入"
   ]
  },
  {
   "cell_type": "code",
   "execution_count": 3,
   "metadata": {},
   "outputs": [
    {
     "name": "stdout",
     "output_type": "stream",
     "text": [
      "- name: John Doe\n",
      "  occupation: gardener\n",
      "- name: Lucy Black\n",
      "  occupation: teacher\n",
      " <class 'str'>\n"
     ]
    }
   ],
   "source": [
    "import yaml\n",
    "\n",
    "users = [\n",
    "    {'name': 'John Doe', 'occupation': 'gardener'},\n",
    "    {'name': 'Lucy Black', 'occupation': 'teacher'}\n",
    "]\n",
    "\n",
    "yaml_str = yaml.dump(users)\n",
    "print(yaml_str, type(yaml_str))"
   ]
  },
  {
   "cell_type": "code",
   "execution_count": 1,
   "metadata": {},
   "outputs": [],
   "source": [
    "import yaml\n",
    "\n",
    "users = [\n",
    "    {'name': 'John Doe', 'occupation': 'gardener'},\n",
    "    {'name': 'Lucy Black', 'occupation': 'teacher'}\n",
    "]\n",
    "\n",
    "with open('some.yaml', 'w') as f:\n",
    "    yaml.dump(users, f)\n"
   ]
  },
  {
   "cell_type": "markdown",
   "metadata": {},
   "source": [
    "参数对键进行排序"
   ]
  },
  {
   "cell_type": "code",
   "execution_count": 3,
   "metadata": {},
   "outputs": [],
   "source": [
    "with open('some.yaml', 'w') as f:\n",
    "    yaml.dump(users, f, sort_keys=True)"
   ]
  },
  {
   "attachments": {},
   "cell_type": "markdown",
   "metadata": {},
   "source": [
    "## 读取"
   ]
  },
  {
   "cell_type": "code",
   "execution_count": 9,
   "metadata": {},
   "outputs": [
    {
     "name": "stdout",
     "output_type": "stream",
     "text": [
      "[{'name': 'John Doe', 'occupation': 'gardener'}, {'name': 'Lucy Black', 'occupation': 'teacher'}]\n",
      "John Doe gardener\n"
     ]
    }
   ],
   "source": [
    "import yaml\n",
    "\n",
    "with open('some.yaml') as f:\n",
    "    data = yaml.load(f, Loader=yaml.FullLoader)\n",
    "    print(data)\n",
    "    print(data[0]['name'], data[0]['occupation'])"
   ]
  },
  {
   "attachments": {},
   "cell_type": "markdown",
   "metadata": {},
   "source": [
    "# safe版本\n",
    "官方推荐使用。官方给出的解释，因为yaml.safe_dump()、yaml.safe_load() 能够：\n",
    "\n",
    "Resolve only basic YAML tags. This is known to be safe for untrusted input."
   ]
  },
  {
   "attachments": {},
   "cell_type": "markdown",
   "metadata": {},
   "source": [
    "## 写入"
   ]
  },
  {
   "cell_type": "code",
   "execution_count": 4,
   "metadata": {},
   "outputs": [],
   "source": [
    "import yaml\n",
    "\n",
    "users = [\n",
    "    {'name': 'John Doe', 'occupation': 'gardener'},\n",
    "    {'name': 'Lucy Black', 'occupation': 'teacher'}\n",
    "]\n",
    "\n",
    "with open('some.yaml', 'w') as f:\n",
    "    yaml.safe_dump(users, f)"
   ]
  },
  {
   "attachments": {},
   "cell_type": "markdown",
   "metadata": {},
   "source": [
    "## 读取\n",
    "`yaml.safe_load(sys.stdin)` just does `yaml.load(sys.stdin, Loader=yaml.SafeLoader)`. 省得写个难记的Loader，而且安全加载不会执行其中包含的Python 代码"
   ]
  },
  {
   "cell_type": "code",
   "execution_count": 5,
   "metadata": {},
   "outputs": [
    {
     "name": "stdout",
     "output_type": "stream",
     "text": [
      "[{'name': 'John Doe', 'occupation': 'gardener'}, {'name': 'Lucy Black', 'occupation': 'teacher'}]\n",
      "John Doe gardener\n"
     ]
    }
   ],
   "source": [
    "import yaml\n",
    "\n",
    "with open('some.yaml') as f:\n",
    "    data = yaml.safe_load(f)\n",
    "    print(data)\n",
    "    print(data[0]['name'], data[0]['occupation'])"
   ]
  },
  {
   "cell_type": "code",
   "execution_count": null,
   "metadata": {},
   "outputs": [],
   "source": []
  }
 ],
 "metadata": {
  "kernelspec": {
   "display_name": "Python 3.9.13 ('fff')",
   "language": "python",
   "name": "python3"
  },
  "language_info": {
   "codemirror_mode": {
    "name": "ipython",
    "version": 3
   },
   "file_extension": ".py",
   "mimetype": "text/x-python",
   "name": "python",
   "nbconvert_exporter": "python",
   "pygments_lexer": "ipython3",
   "version": "3.9.13"
  },
  "orig_nbformat": 4,
  "vscode": {
   "interpreter": {
    "hash": "85ed662edb1bb64ac9f7019362dcc1f64eb726c9a95334217aac7b5d9a2ea37f"
   }
  }
 },
 "nbformat": 4,
 "nbformat_minor": 2
}
