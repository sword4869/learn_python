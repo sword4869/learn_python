{
 "cells": [
  {
   "cell_type": "markdown",
   "metadata": {},
   "source": [
    "# 禁止字符"
   ]
  },
  {
   "cell_type": "code",
   "execution_count": 1,
   "metadata": {},
   "outputs": [
    {
     "ename": "OSError",
     "evalue": "[Errno 22] Invalid argument: '\"stop things what make you weak.\" honeysuckle，精神内耗，自我贬低的话。.html'",
     "output_type": "error",
     "traceback": [
      "\u001b[1;31m---------------------------------------------------------------------------\u001b[0m",
      "\u001b[1;31mOSError\u001b[0m                                   Traceback (most recent call last)",
      "\u001b[1;32m<ipython-input-1-9c12ad4dd2b5>\u001b[0m in \u001b[0;36m<module>\u001b[1;34m\u001b[0m\n\u001b[0;32m      1\u001b[0m \u001b[0mfileName\u001b[0m \u001b[1;33m=\u001b[0m \u001b[1;34m'\"stop things what make you weak.\" honeysuckle，精神内耗，自我贬低的话。.html'\u001b[0m\u001b[1;33m\u001b[0m\u001b[1;33m\u001b[0m\u001b[0m\n\u001b[1;32m----> 2\u001b[1;33m \u001b[1;32mwith\u001b[0m \u001b[0mopen\u001b[0m\u001b[1;33m(\u001b[0m\u001b[0mfileName\u001b[0m\u001b[1;33m,\u001b[0m \u001b[1;34m'w'\u001b[0m\u001b[1;33m,\u001b[0m \u001b[0mencoding\u001b[0m\u001b[1;33m=\u001b[0m\u001b[1;34m'utf-8'\u001b[0m\u001b[1;33m)\u001b[0m \u001b[1;32mas\u001b[0m \u001b[0mfp\u001b[0m\u001b[1;33m:\u001b[0m\u001b[1;33m\u001b[0m\u001b[1;33m\u001b[0m\u001b[0m\n\u001b[0m\u001b[0;32m      3\u001b[0m     \u001b[0mprint\u001b[0m\u001b[1;33m(\u001b[0m\u001b[1;34m'es'\u001b[0m\u001b[1;33m)\u001b[0m\u001b[1;33m\u001b[0m\u001b[1;33m\u001b[0m\u001b[0m\n",
      "\u001b[1;31mOSError\u001b[0m: [Errno 22] Invalid argument: '\"stop things what make you weak.\" honeysuckle，精神内耗，自我贬低的话。.html'"
     ]
    }
   ],
   "source": [
    "fileName = '\"stop things what make you weak.\" honeysuckle，精神内耗，自我贬低的话。.html'\n",
    "with open(fileName, 'w', encoding='utf-8') as fp:\n",
    "    print('es')"
   ]
  },
  {
   "cell_type": "markdown",
   "metadata": {},
   "source": [
    "问题不是中文字符`，`，而是文件的命名规则，不能带有`\"`。\n",
    "所有的禁止字符是`\" ? : * < > | \\ /`。\n",
    "PS：英文的引号不行`\"`，但是中文的引号可以`“”`"
   ]
  },
  {
   "cell_type": "markdown",
   "metadata": {},
   "source": [
    "# 不可以见字符"
   ]
  },
  {
   "cell_type": "code",
   "execution_count": null,
   "metadata": {},
   "outputs": [],
   "source": [
    "fileName = 'father\\u200b.html'\n",
    "with open(fileName, 'w', encoding='utf-8') as fp:\n",
    "    print('es')"
   ]
  },
  {
   "cell_type": "markdown",
   "metadata": {},
   "source": [
    "`\\u200b`之类的字符就是不可见字符，直接替换`s = s.replace('\\u200b', '')`可以。\n",
    "\n",
    "但是并不是只有`\\u200b`这一个，还有类似`\\x10`之类乱七八槽的。\n",
    "\n",
    "所以我们用`c.isprintable()`来判断。"
   ]
  },
  {
   "cell_type": "markdown",
   "metadata": {},
   "source": [
    "# 成果"
   ]
  },
  {
   "cell_type": "code",
   "execution_count": null,
   "metadata": {},
   "outputs": [],
   "source": [
    "def getStr(s):\n",
    "    s = s.replace('\"', '')\n",
    "    s = s.replace('?', '')\n",
    "    s = s.replace(':', '')\n",
    "    s = s.replace('*', '')\n",
    "    s = s.replace('<', '')\n",
    "    s = s.replace('>', '')\n",
    "    s = s.replace('|', '')\n",
    "    s = s.replace('\\\\', '')\n",
    "    s = s.replace('/', '')\n",
    "\n",
    "    # unprintable char\n",
    "    s = ''.join(x for x in s if x.isprintable())\n",
    "    return s"
   ]
  }
 ],
 "metadata": {
  "kernelspec": {
   "display_name": "Python 3.8.3rc1 64-bit",
   "language": "python",
   "name": "python3"
  },
  "language_info": {
   "codemirror_mode": {
    "name": "ipython",
    "version": 3
   },
   "file_extension": ".py",
   "mimetype": "text/x-python",
   "name": "python",
   "nbconvert_exporter": "python",
   "pygments_lexer": "ipython3",
   "version": "3.8.3rc1"
  },
  "orig_nbformat": 4,
  "vscode": {
   "interpreter": {
    "hash": "fccb4a8ca262aeba171dd9d3a834be69140e62728bf7ef61254f3d9aa04f9ce5"
   }
  }
 },
 "nbformat": 4,
 "nbformat_minor": 2
}
