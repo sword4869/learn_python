{
 "cells": [
  {
   "cell_type": "code",
   "execution_count": 5,
   "metadata": {},
   "outputs": [
    {
     "name": "stdout",
     "output_type": "stream",
     "text": [
      "../配置文件/csv\n",
      "../配置文件/json\n",
      "../配置文件/ini\n",
      "../.vscode\n",
      "../声音处理\n",
      "../配置文件\n",
      "../读取命令行\n",
      "../图像\n",
      "../virtual environment\n",
      "../压缩\n",
      "../路径\n",
      "../.git\n",
      "../控制台效果\n",
      "../读写文件\n",
      "../image\n"
     ]
    }
   ],
   "source": [
    "import os\n",
    "\n",
    "for root, dirs, files in os.walk(\"..\", topdown=False):\n",
    "    # 遍历所有的文件夹\n",
    "    for dir in dirs:\n",
    "        if '.git' in root:\n",
    "            continue\n",
    "        print(os.path.join(root, dir))"
   ]
  },
  {
   "cell_type": "code",
   "execution_count": null,
   "metadata": {},
   "outputs": [],
   "source": []
  }
 ],
 "metadata": {
  "kernelspec": {
   "display_name": "Python 3.9.13 ('myenv')",
   "language": "python",
   "name": "python3"
  },
  "language_info": {
   "codemirror_mode": {
    "name": "ipython",
    "version": 3
   },
   "file_extension": ".py",
   "mimetype": "text/x-python",
   "name": "python",
   "nbconvert_exporter": "python",
   "pygments_lexer": "ipython3",
   "version": "3.9.13"
  },
  "orig_nbformat": 4,
  "vscode": {
   "interpreter": {
    "hash": "70c2c951b79418afa68fe3ba4cfcb65558a15271f3a0c4c0e1072a999987ff99"
   }
  }
 },
 "nbformat": 4,
 "nbformat_minor": 2
}
