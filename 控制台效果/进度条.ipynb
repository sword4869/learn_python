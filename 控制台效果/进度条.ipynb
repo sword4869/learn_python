{
 "cells": [
  {
   "cell_type": "markdown",
   "metadata": {},
   "source": [
    "# install"
   ]
  },
  {
   "cell_type": "code",
   "execution_count": 16,
   "metadata": {},
   "outputs": [
    {
     "name": "stdout",
     "output_type": "stream",
     "text": [
      "Looking in indexes: https://mirrors.bfsu.edu.cn/pypi/web/simple, https://pypi.ngc.nvidia.com\n",
      "Requirement already satisfied: tdqm in /home/lab/anaconda3/envs/myenv/lib/python3.9/site-packages (0.0.1)\n",
      "Requirement already satisfied: tqdm in /home/lab/anaconda3/envs/myenv/lib/python3.9/site-packages (from tdqm) (4.64.1)\n",
      "^C\n"
     ]
    }
   ],
   "source": [
    "!pip install tdqm"
   ]
  },
  {
   "cell_type": "code",
   "execution_count": 2,
   "metadata": {},
   "outputs": [],
   "source": [
    "from tqdm import tqdm, trange"
   ]
  },
  {
   "cell_type": "markdown",
   "metadata": {},
   "source": [
    "# use"
   ]
  },
  {
   "cell_type": "markdown",
   "metadata": {},
   "source": [
    "## tqdm模块参数说明"
   ]
  },
  {
   "cell_type": "code",
   "execution_count": null,
   "metadata": {},
   "outputs": [],
   "source": [
    "class tqdm():\n",
    "  \"\"\"\n",
    "  Decorate an iterable object, returning an iterator which acts exactly\n",
    "  like the original iterable, but prints a dynamically updating\n",
    "  progressbar every time a value is requested.\n",
    "  \"\"\"\n",
    "\n",
    "  def __init__(self, iterable=None, desc=None, total=None, leave=True,\n",
    "               file=None, ncols=None, mininterval=0.1,\n",
    "               maxinterval=10.0, miniters=None, ascii=None, disable=False,\n",
    "               unit='it', unit_scale=False, dynamic_ncols=False,\n",
    "               smoothing=0.3, bar_format=None, initial=0, position=None,\n",
    "               postfix=None, unit_divisor=1000):"
   ]
  },
  {
   "cell_type": "markdown",
   "metadata": {},
   "source": [
    "- iterable: 可迭代的对象, 在手动更新时不需要进行设置\n",
    "- desc: 字符串, 左边进度条描述文字\n",
    "- total: 总的项目数\n",
    "- leave: bool值, 迭代完成后是否保留进度条\n",
    "- file: 输出指向位置, 默认是终端, 一般不需要设置\n",
    "- ncols: 调整进度条宽度, 默认是根据环境自动调节长度, 如果设置为0, 就没有进度条, 只有输出的信息\n",
    "- unit: 描述处理项目的文字, 默认是'it', 例如: 100 it/s, 处理照片的话设置为'img' ,则为 100 img/s\n",
    "- unit_scale: 自动根据国际标准进行项目处理速度单位的换算, 例如 100000 it/s >> 100k it/s"
   ]
  },
  {
   "cell_type": "markdown",
   "metadata": {},
   "source": [
    "## 迭代更新"
   ]
  },
  {
   "cell_type": "code",
   "execution_count": 3,
   "metadata": {},
   "outputs": [],
   "source": [
    "from time import sleep"
   ]
  },
  {
   "cell_type": "code",
   "execution_count": 31,
   "metadata": {},
   "outputs": [
    {
     "name": "stderr",
     "output_type": "stream",
     "text": [
      "100%|██████████| 5/5 [00:02<00:00,  1.99it/s]\n",
      "100%|██████████| 5/5 [00:02<00:00,  1.99it/s]\n",
      "100%|██████████| 5/5 [00:02<00:00,  2.00it/s]\n",
      "100%|██████████| 5/5 [00:02<00:00,  2.00it/s]\n"
     ]
    }
   ],
   "source": [
    "l1 = list(range(5))\n",
    "# tdqm(a iterable object, not iterator)\n",
    "pbar1 = tqdm(l1)\n",
    "for i in pbar1:\n",
    "    # print(i) , 迭代的东西还是可以用的\n",
    "    sleep(0.5)\n",
    "# 手动关闭\n",
    "pbar1.close()\n",
    "\n",
    "# with自动关闭\n",
    "with tqdm(l1) as pbar3:\n",
    "    for i in pbar3:\n",
    "        # print(i)\n",
    "        sleep(0.5)"
   ]
  },
  {
   "cell_type": "code",
   "execution_count": 3,
   "metadata": {},
   "outputs": [
    {
     "name": "stderr",
     "output_type": "stream",
     "text": [
      "100%|██████████| 5/5 [00:00<00:00, 75166.74it/s]\n"
     ]
    },
    {
     "name": "stdout",
     "output_type": "stream",
     "text": [
      "0\n",
      "1\n",
      "2\n",
      "3\n",
      "4\n"
     ]
    },
    {
     "name": "stderr",
     "output_type": "stream",
     "text": [
      "100%|██████████| 5/5 [00:00<00:00, 80659.69it/s]\n"
     ]
    },
    {
     "name": "stdout",
     "output_type": "stream",
     "text": [
      "a\n",
      "b\n",
      "c\n",
      "d\n",
      "e\n"
     ]
    },
    {
     "name": "stderr",
     "output_type": "stream",
     "text": [
      "100%|██████████| 5/5 [00:00<00:00, 48545.19it/s]\n"
     ]
    },
    {
     "name": "stdout",
     "output_type": "stream",
     "text": [
      "a 1\n",
      "b 2\n",
      "c 3\n",
      "d 4\n",
      "e 5\n"
     ]
    },
    {
     "name": "stderr",
     "output_type": "stream",
     "text": [
      "100%|██████████| 5/5 [00:00<00:00, 77961.04it/s]"
     ]
    },
    {
     "name": "stdout",
     "output_type": "stream",
     "text": [
      "a 1\n",
      "b 2\n",
      "c 3\n",
      "d 4\n",
      "e 5\n"
     ]
    },
    {
     "name": "stderr",
     "output_type": "stream",
     "text": [
      "\n"
     ]
    }
   ],
   "source": [
    "from tqdm import tqdm\n",
    "l1 = list(range(5))\n",
    "l2 = ['a', 'b', 'c', 'd', 'e']\n",
    "l3 = [('a', 1), ('b', 2), ('c', 3), ('d', 4), ('e',5)]\n",
    "l4 = (('a', 1), ('b', 2), ('c', 3), ('d', 4), ('e',5))\n",
    "\n",
    "# with自动关闭\n",
    "with tqdm(l1) as pbar3:\n",
    "    for i in pbar3:\n",
    "        print(i)\n",
    "\n",
    "with tqdm(l2) as pbar4:\n",
    "    for c in pbar4:\n",
    "        print(c)\n",
    "\n",
    "with tqdm(l3) as pbar5:\n",
    "    for c, i in pbar5:\n",
    "        print(c, i)\n",
    "\n",
    "with tqdm(l4) as pbar6:\n",
    "    for c, i in pbar6:\n",
    "        print(c, i)"
   ]
  },
  {
   "cell_type": "markdown",
   "metadata": {},
   "source": [
    "`pbar1 = tqdm(l1)`和`pbar2 = tqdm(l2)`要是写在一起, 那么第二个进度条就不会显示出来. 所以要`pbar2`要写在`pbar1.close()`后面.\n",
    "```python\n",
    "pbar1 = tqdm(l1)\n",
    "pbar2 = tqdm(l2)\n",
    "```"
   ]
  },
  {
   "cell_type": "markdown",
   "metadata": {},
   "source": [
    "## 手动更新"
   ]
  },
  {
   "cell_type": "code",
   "execution_count": 33,
   "metadata": {},
   "outputs": [
    {
     "name": "stderr",
     "output_type": "stream",
     "text": [
      "100%|██████████| 10/10 [00:01<00:00,  9.83it/s]\n"
     ]
    }
   ],
   "source": [
    "with tqdm(total=10) as pbar:\n",
    "    for i in range(10):\n",
    "        sleep(0.1)\n",
    "        pbar.update(1)"
   ]
  },
  {
   "cell_type": "markdown",
   "metadata": {},
   "source": [
    "## 前缀"
   ]
  },
  {
   "cell_type": "code",
   "execution_count": 36,
   "metadata": {},
   "outputs": [
    {
     "name": "stderr",
     "output_type": "stream",
     "text": [
      "Prefix: 100%|██████████| 3/3 [00:00<00:00,  3.95it/s]\n",
      "Now-2: 100%|██████████| 3/3 [00:00<00:00,  3.93it/s]\n"
     ]
    }
   ],
   "source": [
    "# 这种方式用于没有动态内容的前缀\n",
    "with tqdm(range(3),desc='Prefix') as pbar5:\n",
    "    for i in pbar5:\n",
    "        sleep(0.25)\n",
    "\n",
    "# 这种方式用于有动态内容的前缀\n",
    "with tqdm(range(3)) as pbar6:\n",
    "    for i in pbar6:\n",
    "        # 动态展示当前运行到的 i\n",
    "        pbar6.set_description(f'Now-{i}')\n",
    "        sleep(0.25)"
   ]
  }
 ],
 "metadata": {
  "kernelspec": {
   "display_name": "Python 3.9.13 ('myenv')",
   "language": "python",
   "name": "python3"
  },
  "language_info": {
   "codemirror_mode": {
    "name": "ipython",
    "version": 3
   },
   "file_extension": ".py",
   "mimetype": "text/x-python",
   "name": "python",
   "nbconvert_exporter": "python",
   "pygments_lexer": "ipython3",
   "version": "3.9.13"
  },
  "orig_nbformat": 4,
  "vscode": {
   "interpreter": {
    "hash": "70c2c951b79418afa68fe3ba4cfcb65558a15271f3a0c4c0e1072a999987ff99"
   }
  }
 },
 "nbformat": 4,
 "nbformat_minor": 2
}
